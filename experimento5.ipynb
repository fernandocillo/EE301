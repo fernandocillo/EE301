{
  "cells": [
    {
      "cell_type": "markdown",
      "metadata": {
        "id": "view-in-github",
        "colab_type": "text"
      },
      "source": [
        "<a href=\"https://colab.research.google.com/github/fernandocillo/EE301/blob/main/experimento5.ipynb\" target=\"_parent\"><img src=\"https://colab.research.google.com/assets/colab-badge.svg\" alt=\"Open In Colab\"/></a>"
      ]
    },
    {
      "cell_type": "markdown",
      "id": "c429c6f7-6284-4618-9b23-22136e8627bb",
      "metadata": {
        "id": "c429c6f7-6284-4618-9b23-22136e8627bb"
      },
      "source": [
        "# Experimento 5: Polarização da Luz, Birrefringência e Lei de Brewster"
      ]
    },
    {
      "cell_type": "markdown",
      "id": "9169b977-2b8b-44d0-9650-7b62249587de",
      "metadata": {
        "id": "9169b977-2b8b-44d0-9650-7b62249587de"
      },
      "source": [
        " Fernando Teodoro de Cillo - 197029 \\\\\n",
        " Pedro Henrique de Oliveira Alves - 185684"
      ]
    },
    {
      "cell_type": "code",
      "execution_count": null,
      "id": "f1091a18-7f27-4709-b108-652652933308",
      "metadata": {
        "id": "f1091a18-7f27-4709-b108-652652933308"
      },
      "outputs": [],
      "source": [
        "# Bibliotecas auxiliares\n",
        "import numpy\n",
        "from matplotlib import pyplot"
      ]
    },
    {
      "cell_type": "markdown",
      "id": "93ab655d-6568-42aa-badc-644247572bd9",
      "metadata": {
        "id": "93ab655d-6568-42aa-badc-644247572bd9"
      },
      "source": [
        "## Ambiente Experimental\n",
        "\n",
        "Serão utilizados um laser de He-Ne, suportes giratórios com filtros polarizadores e fitas de material transparente birrefringente, placa de vidro com fitas de material birrefringente, placas de plástico acrílico, escalas de 50 cm, esquadro, transferidor, papel milimetrado, corda elástica e placas com rasgos, monocromador e fonte de luz policromática."
      ]
    },
    {
      "cell_type": "markdown",
      "id": "12ec14e9-b3c7-459b-943b-8e03f14bc592",
      "metadata": {
        "id": "12ec14e9-b3c7-459b-943b-8e03f14bc592"
      },
      "source": [
        "## Roteiro"
      ]
    },
    {
      "cell_type": "markdown",
      "id": "3e64c0ec-2d61-4fbb-871f-4303d054da52",
      "metadata": {
        "tags": [],
        "id": "3e64c0ec-2d61-4fbb-871f-4303d054da52"
      },
      "source": [
        "### Polarização da Luz"
      ]
    },
    {
      "cell_type": "markdown",
      "id": "714946d6-cdf4-457e-a009-71744583774a",
      "metadata": {
        "id": "714946d6-cdf4-457e-a009-71744583774a"
      },
      "source": [
        "Observe o ambiente do laboratório e o corredor, em diversas direções, através de um filtro polarizador, girando-o.  O que acontece?\n",
        "\n",
        "Observe a mesma cena através de dois polarizadores.  Gire um em relação ao outro.  E agora, o que se observa?"
      ]
    },
    {
      "cell_type": "markdown",
      "id": "10ec218e-3795-4e24-898b-f87448b6465a",
      "metadata": {
        "id": "10ec218e-3795-4e24-898b-f87448b6465a"
      },
      "source": [
        "**RESPOSTA:** Girando o polarizador eliminamos as reflexões, mas não a luz direta. \\\\\n",
        "Com dois polarizadores é possível eliminar também a luz direta, e a lente se torna um espelho (é possível ver seu próprio reflexo nela)."
      ]
    },
    {
      "cell_type": "markdown",
      "id": "14644340-555b-49bd-b1dd-8f02066bf03f",
      "metadata": {
        "id": "14644340-555b-49bd-b1dd-8f02066bf03f"
      },
      "source": [
        "Com o polarizador precedido pela placa de vidro com fitas de material birrefringente, observe a luz proveniente do céu ou a refletida por um a superfície plana.  Descreva suas observações."
      ]
    },
    {
      "cell_type": "markdown",
      "id": "e0e1fb24-1540-4a62-9470-0fac59b5a918",
      "metadata": {
        "id": "e0e1fb24-1540-4a62-9470-0fac59b5a918"
      },
      "source": [
        "**RESPOSTA:** Surgem cores no material birrefringente, variando para cada fita e dependendo do ângulo em que se gira o polarizador."
      ]
    },
    {
      "cell_type": "markdown",
      "id": "34a6851d-eae2-4a70-888b-4595b9cd6a2e",
      "metadata": {
        "id": "34a6851d-eae2-4a70-888b-4595b9cd6a2e"
      },
      "source": [
        "Ligue o laser de He-Ne, cuidando para que seu feixe de luz seja contido pelo obturador.  Desloque o obturador e interponha um polarizador no caminho do feixe de luz gerado pelo laser.  O que ocorre quando se gira o polarizador?"
      ]
    },
    {
      "cell_type": "markdown",
      "id": "590691d0-e5c5-4bfa-8ae1-d34a42db18e4",
      "metadata": {
        "id": "590691d0-e5c5-4bfa-8ae1-d34a42db18e4"
      },
      "source": [
        "**RESPOSTA:** Ainda é possível observar o feixe de luz, mesmo com o polarizador no caminho."
      ]
    },
    {
      "cell_type": "markdown",
      "id": "0e6cc720-2b4a-47e0-804f-0d49ca15069a",
      "metadata": {
        "id": "0e6cc720-2b4a-47e0-804f-0d49ca15069a"
      },
      "source": [
        "Interponha dois polarizadores no caminho do feixe e obtenha sua extinção girando-os.\n",
        "Gire um dos polarizadores de +90°, -90° e 180°.  O que ocorre?"
      ]
    },
    {
      "cell_type": "markdown",
      "id": "285ec989-a4c7-4913-9695-de998c256a9d",
      "metadata": {
        "id": "285ec989-a4c7-4913-9695-de998c256a9d"
      },
      "source": [
        "**RESPOSTA:** A partir do ponto em que ocorre a extinção total do feixe, um giro de +90° ou de -90° faz com que toda a luz volte a passar, mas um giro de 180° extingue o feixe novamente."
      ]
    },
    {
      "cell_type": "markdown",
      "id": "1d3e8d2f-fd2a-47ff-bb54-dc5783fa6286",
      "metadata": {
        "id": "1d3e8d2f-fd2a-47ff-bb54-dc5783fa6286"
      },
      "source": [
        "Na condição de feixe extinto, introduza um terceiro polarizador entre os dois.  O que acontece?  Por quê?"
      ]
    },
    {
      "cell_type": "markdown",
      "id": "88bb8a2d-7454-4a94-b46d-5928159ef44a",
      "metadata": {
        "id": "88bb8a2d-7454-4a94-b46d-5928159ef44a"
      },
      "source": [
        "**RESPOSTA:**  A cada 90° girados no polarizador central ocorre a extinção do feixe, mas fora disso há luz passando. \\\\\n",
        "\n",
        "  Isso ocorre porque, com dois polarizadores, o primeiro polariza o laser (que não é polarizado, e por isso não se extingue com apenas um polarizador) e o segundo, a depender do ângulo, forma uma base ortogonal de polarizações bloqueadas, fazendo com que todas as polarizações (que podem ser decompostas nessa base) sejam barradas. \\\\\n",
        "\n",
        "  Adicionando um outro polarizador no meio, ocorre uma decomposição ortogonal das polarizações depois de ter passado o primeiro filtro (polarizador), o que permite a passagem da luz com a polarização que teria sido barrada pelo primeiro polarizador."
      ]
    },
    {
      "cell_type": "markdown",
      "id": "7e5359a1-8d18-4eb1-9e08-1f20a530eb5a",
      "metadata": {
        "id": "7e5359a1-8d18-4eb1-9e08-1f20a530eb5a"
      },
      "source": [
        "Observe o que ocorre no modelo mecânico disponível no laboratório, que utiliza um a corda elástica e placas com rasgos.  Que analogias são possíveis entre as ocorrências observadas até aqui?"
      ]
    },
    {
      "cell_type": "markdown",
      "id": "ce970580-64eb-4c80-813e-77340195f62a",
      "metadata": {
        "id": "ce970580-64eb-4c80-813e-77340195f62a"
      },
      "source": [
        "**RESPOSTA:** No modelo mecânico as caixa de papelão tem função similar à dos polarizadores, porque duas delas posicionadas ortogonalmente extinguem o movimento da corda. A diferença é que cada caixa *permite* apenas a passagem da onda em um eixo, enquanto o polarizador *retira* a luz polarizada em um dos eixos."
      ]
    },
    {
      "cell_type": "markdown",
      "id": "d1c8e6f8-0c1c-4012-9c21-be9f48e19b18",
      "metadata": {
        "tags": [],
        "id": "d1c8e6f8-0c1c-4012-9c21-be9f48e19b18"
      },
      "source": [
        "### Birrefringência I"
      ]
    },
    {
      "cell_type": "markdown",
      "id": "829e4228-ffe4-4d71-987e-d6184e6be897",
      "metadata": {
        "id": "829e4228-ffe4-4d71-987e-d6184e6be897"
      },
      "source": [
        "Usando dois polarizadores no caminho do feixe, obtenha sua extinção.\n",
        "Coloque entre os polarizadores um pedaço de fita transparente.\n",
        "O que ocorre?\n",
        "Por quê?\n",
        "A fita transparente é um polarizador?"
      ]
    },
    {
      "cell_type": "markdown",
      "id": "9cb6ac0d-ef71-44f2-803c-49d96c9707f7",
      "metadata": {
        "id": "9cb6ac0d-ef71-44f2-803c-49d96c9707f7"
      },
      "source": [
        "**RESPOSTA:** Com a fita é impossível atingir a extinção do feixe, o que significa que ela não é um polarizador mas altera a polarização do laser. "
      ]
    },
    {
      "cell_type": "markdown",
      "id": "5ce4e357-ddbb-4da1-8bb4-8fdbcc3d56f3",
      "metadata": {
        "id": "5ce4e357-ddbb-4da1-8bb4-8fdbcc3d56f3"
      },
      "source": [
        "Substitua o laser por um a lâmpada incandescente.  Observe agora diretamente por um polarizador, denominado analisador, a luz proveniente da lâmpada que atravessa um primeiro polarizador e a fita transparente.  Gire o analisador.\n",
        "\n",
        "Observe diversas camadas de fita transparente através do analisador.  O que ocorre?  Por quê?\n",
        "\n",
        "Tente com outros materiais transparentes com o, por exemplo, películas de sacos plásticos, tensionando-os ou deformando-os."
      ]
    },
    {
      "cell_type": "markdown",
      "id": "dea475d5-05a7-4a05-b091-708763a0aa81",
      "metadata": {
        "id": "dea475d5-05a7-4a05-b091-708763a0aa81"
      },
      "source": [
        "**RESPOSTA:** Foi observado coloração sobre as fitas e isso ocorre pois o material é birrefringênte, ou seja, possui diferentes índices de refração a depender da polarização da luz. Desse modo, assim que a luz passa pelo polarizador e encontra a fita, a luz polarizada se propaga diferente dentro do material devido à refração e tem uma alteração no seu comprimento de onda, que está dentro do visível e então vemos cores distintas. "
      ]
    },
    {
      "cell_type": "markdown",
      "id": "7b44b2a0-5175-427a-ab39-7aa05ef51f74",
      "metadata": {
        "id": "7b44b2a0-5175-427a-ab39-7aa05ef51f74"
      },
      "source": [
        "### Lei de Brewster"
      ]
    },
    {
      "cell_type": "markdown",
      "id": "71962bd3-6204-419a-b0c0-b2f279bed328",
      "metadata": {
        "id": "71962bd3-6204-419a-b0c0-b2f279bed328"
      },
      "source": [
        "Observe, num anteparo, o feixe de laser refletido pela superfície de um a placa de acrílico e passando por um filtro polarizador.  Tente extinguir o feixe.  Varie o ângulo de reflexão e determine para qual valor do ângulo de reflexão ocorre o máximo de extinção.  Nestas condições, verifique se há também extinção do feixe refratado, usando o mesmo polarizador, sem girá-lo."
      ]
    },
    {
      "cell_type": "markdown",
      "id": "748835c7-59b5-4cd4-bb39-9b4ff3bc4599",
      "metadata": {
        "id": "748835c7-59b5-4cd4-bb39-9b4ff3bc4599"
      },
      "source": [
        "**RESPOSTA:** O ângulo de reflexão em que ocorre o máximo de extinção é 39°. O feixe refratado não foi extinto. "
      ]
    },
    {
      "cell_type": "markdown",
      "id": "dbcc4865-b505-4a6a-9341-1f3146a9f6f6",
      "metadata": {
        "id": "dbcc4865-b505-4a6a-9341-1f3146a9f6f6"
      },
      "source": [
        "No ângulo de incidência para o qual a polarização do feixe refletido é máxima, denominado ângulo de Brewster, obtenha a extinção do feixe refletido com o polarizador.  Em seguida, ponha-o entre o laser e a placa de acrílico.  Observe o feixe refletido e o refratado com outro polarizador.  Gire o polarizador do feixe incidente de 90° e novamente observe o feixe refletido e o refratado com outro polarizador.  O que acontece?  Por quê?"
      ]
    },
    {
      "cell_type": "markdown",
      "id": "f8e43778-845d-44ac-890f-2be446b2e1e6",
      "metadata": {
        "id": "f8e43778-845d-44ac-890f-2be446b2e1e6"
      },
      "source": [
        "**RESPOSTA:** O feixe refletido se extingue, mas o refratado não. Isso ocorre porque o primeiro polarizador está polarizando a luz ortogonalmente ao analisador do feixe refletido (90°), causando a extinção, mas essa polarização é alterada quando a luz é refratada, o que faz com que o mesmo analisador inserido no feixe refratado não cause a extinção da onda (que não está mais polarizada ortgonalmente ao analisador)."
      ]
    },
    {
      "cell_type": "markdown",
      "id": "f5e945bb-59f8-4a99-92bb-6e1a2cf76de0",
      "metadata": {
        "id": "f5e945bb-59f8-4a99-92bb-6e1a2cf76de0"
      },
      "source": [
        "Meça o ângulo de Brewster e observe, dentro da placa acrílica, o feixe refratado.  Qual é o ângulo que ele forma com o feixe refletido?  Qual é a direção do plano de polarização do feixe refletido?"
      ]
    },
    {
      "cell_type": "markdown",
      "id": "4581f143-dcda-428c-8dc3-b48f675e31d9",
      "metadata": {
        "id": "4581f143-dcda-428c-8dc3-b48f675e31d9"
      },
      "source": [
        "**RESPOSTA:** O ângulo de Brewster é 51°. O ângulo formado com o feixe refletido é 90°."
      ]
    },
    {
      "cell_type": "markdown",
      "id": "5e9d14c8-cd7e-4347-a25c-4450fc4d00d7",
      "metadata": {
        "id": "5e9d14c8-cd7e-4347-a25c-4450fc4d00d7"
      },
      "source": [
        "Calcule o índice de refração da placa de acrílico."
      ]
    },
    {
      "cell_type": "code",
      "execution_count": null,
      "id": "0a4315ef-6da1-445e-a94e-7cf330cd5335",
      "metadata": {
        "id": "0a4315ef-6da1-445e-a94e-7cf330cd5335"
      },
      "outputs": [],
      "source": [
        "# CÁLCULOS"
      ]
    },
    {
      "cell_type": "markdown",
      "source": [
        "Quando o ângulo de incidência $\\theta_{1}$ é complementar ao ângulo de refração $\\theta_2$, denominamos o ângulo de incidência como ângulo de Brewster $\\theta_B$, ou seja: \\\\\n",
        "$$\\theta_1+\\theta_2=90° ⇒ \\theta_1=\\theta_B$$\n",
        "\n",
        "O ângulo de Brewster se relaciona com os índices de refração dos materiais através da seguinte equação, em que $n_1$ é o índice de refração do meio pelo qual a luz indice e $n_2$ do meio em que a luz é refratada.\n",
        "$$\\theta_B=tan^{-1}\\left(\\frac{n_2}{n_1}\\right)$$\n",
        "\n",
        "Como a luz se propaga inciialmente no ar, temos $n_1=1$, o que leva a\n",
        "\n",
        "$$\\theta_B=tan^{-1}(n_2)$$\n",
        "$$n_2=tan(\\theta_B)$$\n",
        "\n",
        "O ângulo de Brewster encontrado experimentalmente foi de 51°. Portanto,\n",
        "$$n_2=tan(51°)$$\n",
        "$$n_2=1.2348971565$$"
      ],
      "metadata": {
        "id": "MhOK6EEqcCnI"
      },
      "id": "MhOK6EEqcCnI"
    },
    {
      "cell_type": "markdown",
      "id": "a56fcbc8-7d0a-4107-9d35-82c58bcb9b16",
      "metadata": {
        "id": "a56fcbc8-7d0a-4107-9d35-82c58bcb9b16"
      },
      "source": [
        "### Birrefringência II"
      ]
    },
    {
      "cell_type": "markdown",
      "id": "708465d4-f85b-4bcc-83d8-ab46d145dcec",
      "metadata": {
        "id": "708465d4-f85b-4bcc-83d8-ab46d145dcec"
      },
      "source": [
        "Determine a direção do plano de polarização de um polarizador e posicione-o a um ângulo de 45° com o plano horizontal.  Coloque-o na saída do monocromador.\n",
        "\n",
        "Ilumine a entrada do monocromador com a fonte de luz policromática.  Com um segundo polarizador (analisador) obtenha a extinção do feixe proveniente do monocromador.  Qual é a direção do plano de polarização do analisador agora?"
      ]
    },
    {
      "cell_type": "markdown",
      "id": "24078a63-e566-4218-8be0-3b3481acf0cb",
      "metadata": {
        "id": "24078a63-e566-4218-8be0-3b3481acf0cb"
      },
      "source": [
        "**RESPOSTA:** A direção do plano de polarização do analisador é ortogonal ao do outro polarizador."
      ]
    },
    {
      "cell_type": "markdown",
      "id": "2a3542cc-e24f-4019-adf9-244b03251127",
      "metadata": {
        "id": "2a3542cc-e24f-4019-adf9-244b03251127"
      },
      "source": [
        "Interponha uma das fitas transparentes entre os polarizadores.  O que ocorre?  Por quê?"
      ]
    },
    {
      "cell_type": "markdown",
      "id": "c4acb9fe-64a3-41fc-8f72-e8828a160f2c",
      "metadata": {
        "id": "c4acb9fe-64a3-41fc-8f72-e8828a160f2c"
      },
      "source": [
        "**RESPOSTA:** A fita altera a sua coloração e impede que o feixe seja extinto, porque é um material birrefringente, ou seja, um material que altera a polarização de maneira diferente para cada comprimento de onda."
      ]
    },
    {
      "cell_type": "markdown",
      "id": "a40ff2d2-da45-45ca-aaa6-8a34b39a1180",
      "metadata": {
        "id": "a40ff2d2-da45-45ca-aaa6-8a34b39a1180"
      },
      "source": [
        "Gire o analisador.  Descreva e explique suas observações."
      ]
    },
    {
      "cell_type": "markdown",
      "id": "74ba5afc-f9a3-4c0c-b84a-50321d591bb4",
      "metadata": {
        "id": "74ba5afc-f9a3-4c0c-b84a-50321d591bb4"
      },
      "source": [
        "**RESPOSTA:** Girando o analisador é possível atingir pontos de mínima passagem de luz, mas esse ângulo é alterado para cada comprimento de onda e na maioria dos casos o feixe não se extingue."
      ]
    },
    {
      "cell_type": "markdown",
      "id": "0a4043f5-1343-43a0-a2a6-73a261bab9d7",
      "metadata": {
        "id": "0a4043f5-1343-43a0-a2a6-73a261bab9d7"
      },
      "source": [
        "Altere o comprimento de onda da luz proveniente do monocromador.  Gire o analisador.  Existe um ou mais comprimentos de onda para os quais ocorre a extinção?  Explique."
      ]
    },
    {
      "cell_type": "markdown",
      "id": "64f87cc3-25bd-4294-b8d6-682076cb3aae",
      "metadata": {
        "id": "64f87cc3-25bd-4294-b8d6-682076cb3aae"
      },
      "source": [
        "**RESPOSTA:** Girando o analisador é possível atingir pontos de mínima passagem de luz, mas esse ângulo é alterado para cada comprimento de onda e na maioria dos casos o feixe não se extingue."
      ]
    },
    {
      "cell_type": "markdown",
      "id": "322b9829-fd87-46b8-b6b6-2d56f48f6bd7",
      "metadata": {
        "id": "322b9829-fd87-46b8-b6b6-2d56f48f6bd7"
      },
      "source": [
        "Quais podem ser as aplicações na engenharia para os fenômenos observados?"
      ]
    },
    {
      "cell_type": "markdown",
      "id": "adb6e2cd-c8ed-4a6d-8305-c8c2dad6c132",
      "metadata": {
        "id": "adb6e2cd-c8ed-4a6d-8305-c8c2dad6c132"
      },
      "source": [
        "**RESPOSTA:** O índice de refração $n_2$ do material birrefringente é diferente para cada comprimento de onda, o que faz com que o efeito da refração sobre cada comprimento seja diferente. "
      ]
    },
    {
      "cell_type": "markdown",
      "id": "03445856-0db5-4375-898a-fc452ab05202",
      "metadata": {
        "id": "03445856-0db5-4375-898a-fc452ab05202"
      },
      "source": [
        "---\n",
        "*Roteiro original preparado pelos Profs. Furio Damiani e Peter Jürgen Tatsch*"
      ]
    }
  ],
  "metadata": {
    "kernelspec": {
      "display_name": "Python 3 (ipykernel)",
      "language": "python",
      "name": "python3"
    },
    "language_info": {
      "codemirror_mode": {
        "name": "ipython",
        "version": 3
      },
      "file_extension": ".py",
      "mimetype": "text/x-python",
      "name": "python",
      "nbconvert_exporter": "python",
      "pygments_lexer": "ipython3",
      "version": "3.10.2"
    },
    "colab": {
      "provenance": [],
      "include_colab_link": true
    }
  },
  "nbformat": 4,
  "nbformat_minor": 5
}