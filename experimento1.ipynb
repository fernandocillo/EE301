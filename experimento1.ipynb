{
  "cells": [
    {
      "cell_type": "markdown",
      "id": "79f47e00-64bd-408c-a68f-56c7dd77e4c4",
      "metadata": {
        "id": "79f47e00-64bd-408c-a68f-56c7dd77e4c4"
      },
      "source": [
        "# Experimento 1: Materiais Condutores e Isolantes"
      ]
    },
    {
      "cell_type": "markdown",
      "id": "c0067a27-57ce-43fe-9ff9-b4b77d7e0a18",
      "metadata": {
        "id": "c0067a27-57ce-43fe-9ff9-b4b77d7e0a18"
      },
      "source": [
        "Fernando Teodoro de Cillo - RA 197029 \\\\\n",
        "Pedro Henrique de Oliveira Alves - RA 185684"
      ]
    },
    {
      "cell_type": "code",
      "execution_count": null,
      "id": "36ef7508-405b-4587-bf63-ba958cad6ad0",
      "metadata": {
        "id": "36ef7508-405b-4587-bf63-ba958cad6ad0"
      },
      "outputs": [],
      "source": [
        "# Bibliotecas auxiliares\n",
        "\n",
        "import numpy\n",
        "from matplotlib import pyplot"
      ]
    },
    {
      "cell_type": "markdown",
      "id": "af101758-83b7-4ac6-a4ee-4b88bd57266b",
      "metadata": {
        "tags": [],
        "id": "af101758-83b7-4ac6-a4ee-4b88bd57266b"
      },
      "source": [
        "## Medidas de Capacitância"
      ]
    },
    {
      "cell_type": "markdown",
      "id": "f901fbdb-0eb9-480e-aba8-63abfef84293",
      "metadata": {
        "tags": [],
        "id": "f901fbdb-0eb9-480e-aba8-63abfef84293"
      },
      "source": [
        "### Modelo\n",
        "\n",
        "No modelo de capacitor plano de placas paralelas o valor da capacitância é dado (no sistema internacional) pela expressão:\n",
        "\n",
        "\\begin{equation}\n",
        "C = \\frac{\\epsilon_0\\epsilon_r A}{d}\n",
        "\\end{equation}\n",
        "\n",
        "em que $\\epsilon_0$ é a permissividade elétrica do vácuo (8.854187×10⁻¹² F/m), $\\epsilon_r$ é permissividade relativa ou constante dielétrica do material (adimensional, algumas vezes denotada também por $k$), $A$ é a área das placas condutoras e $d$ a distância entre elas.\n",
        "\n",
        "O fator de dissipação para o modelo em série é dado pela expressão:\n",
        "\n",
        "\\begin{equation}\n",
        "D = \\frac{1}{Q} = \\omega RC\n",
        "\\end{equation}\n",
        "\n",
        "em que $Q$ é o fator de qualidade do capacitor, $R$ é a resistência série equivalente e $C$ é a capacitância medida na frequência angular $\\omega$.\n"
      ]
    },
    {
      "cell_type": "markdown",
      "id": "8471aeb8-4d68-46e7-8e07-0b3a27e5e692",
      "metadata": {
        "id": "8471aeb8-4d68-46e7-8e07-0b3a27e5e692"
      },
      "source": [
        "### Ambiente Experimental\n",
        "\n",
        "Utilizando as 2 placas de madeira, as 2 placas condutoras e uma folha de material dielétrico, arranjá-las como mostrado na figura a seguir, tomando o cuidado de opor diagonalmente os cantos biselados das placas condutoras.  Ligar a ponte de impedância aos fios conectados às placas condutoras.  O procedimento para a medida de capacitâncias está descrito no manual da ponte de impedância."
      ]
    },
    {
      "cell_type": "markdown",
      "id": "f572563f-3222-4b13-a9ce-0585dfcf345c",
      "metadata": {
        "id": "f572563f-3222-4b13-a9ce-0585dfcf345c"
      },
      "source": [
        "<p><img class=\"align-center\" alt=\"Montagem das folhas de dielétrico para as medidas de capacitância\" src=\"data:image/png;base64, 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\" /></p>"
      ]
    },
    {
      "cell_type": "markdown",
      "id": "209e7b6f-a9e6-45ab-b2bb-ba35d8e7b6dc",
      "metadata": {
        "tags": [],
        "id": "209e7b6f-a9e6-45ab-b2bb-ba35d8e7b6dc"
      },
      "source": [
        "### Roteiro e Análise\n",
        "\n",
        "Meça a capacitância e o fator de dissipação das montagens feitas com as folhas de material dielétrico disponíveis no laboratório.  É conveniente fazer inicialmente a medida de um capacitor de valor conhecido para certificar-se do método de medida."
      ]
    },
    {
      "cell_type": "code",
      "execution_count": null,
      "id": "36dcc907-e3f4-49a9-92df-4ae2240ead48",
      "metadata": {
        "id": "36dcc907-e3f4-49a9-92df-4ae2240ead48"
      },
      "outputs": [],
      "source": [
        "# DADOS COLETADOS"
      ]
    },
    {
      "cell_type": "markdown",
      "source": [
        "| Material | Capacitância ($nF$) | Fator de Dissipação ($C^{-1}$)\n",
        "|:---------|:----------------------:|:-----:|\n",
        "| Fibra Comercial | 6,5 | 0,219 |\n",
        "| Prespahn        | 7,787 | 0,17 |\n",
        "| Pine com Mylar  | 6,746 | 0,2 |"
      ],
      "metadata": {
        "id": "8Zzp3SVNaF40"
      },
      "id": "8Zzp3SVNaF40"
    },
    {
      "cell_type": "markdown",
      "id": "549c97de-1290-4506-8e3b-3e2d8fd6bdd9",
      "metadata": {
        "id": "549c97de-1290-4506-8e3b-3e2d8fd6bdd9"
      },
      "source": [
        "Calcule as constante dielétricas das folhas medidas. Compare e interprete os resultados obtidos."
      ]
    },
    {
      "cell_type": "code",
      "execution_count": null,
      "id": "dd9aa403-3237-43b5-8a72-a3bc04e680ad",
      "metadata": {
        "tags": [],
        "id": "dd9aa403-3237-43b5-8a72-a3bc04e680ad"
      },
      "outputs": [],
      "source": [
        "# CÁLCULOS"
      ]
    },
    {
      "cell_type": "markdown",
      "source": [
        "Partimos da fórmula da capacitância do material\n",
        "$$C = \\frac{\\epsilon_0\\epsilon_r A}{d}$$\n",
        "e isolamos o termo $\\epsilon_r$, que representa a constante dielétrica do meio.\n",
        "$$\\epsilon_r=\\frac{C\\cdot d}{\\epsilon_0 \\cdot A}$$\n",
        "\n",
        "Assim, usando as capacitâncias medidas, a espessura de cada folha como a distância $d$, a constante dielétrica do vácuo 8,854187×10⁻¹² F/m e a área $A$ de cada placa, calculamos as constantes dielétricas das folhas por\n",
        "$$\\epsilon_{fibra}=\\frac{6,5\\cdot10^{-6}\\cdot 0,26\\cdot10^{-3}}{8,854187\\cdot10^{-12} \\cdot 0,6}$$\n",
        "$$\\epsilon_{prespahn}=\\frac{7,787\\cdot10^{-6}\\cdot 0,19\\cdot10^{-3}}{8,854187\\cdot10^{-12} \\cdot 0,6}$$\n",
        "$$\\epsilon_{pine-mylar}=\\frac{6,746\\cdot10^{-6}\\cdot 0,30\\cdot10^{-3}}{8,854187\\cdot10^{-12} \\cdot 0,6}$$ \n",
        "e obtemos os resultados da tabela\n"
      ],
      "metadata": {
        "id": "GE97XDltjkTG"
      },
      "id": "GE97XDltjkTG"
    },
    {
      "cell_type": "markdown",
      "id": "96d8ff0f-372f-42a4-8072-dc2a9323cfc2",
      "metadata": {
        "id": "96d8ff0f-372f-42a4-8072-dc2a9323cfc2"
      },
      "source": [
        "| Material | Constante dielétrica (F/m)\n",
        "|:---------|:----------------------:|\n",
        "| Fibra Comercial | $\\epsilon_{fibra}=318,12$ |\n",
        "| Prespahn        | $\\epsilon_{prespahn}=278,51$ |\n",
        "| Pine com Mylar  | $\\epsilon_{pine-mylar}=380,95$ |"
      ]
    },
    {
      "cell_type": "markdown",
      "source": [
        "Nota: as medidas das áreas não foram tiradas durante o experimento e, para realizar os cálculos, foi utilizado um valor aproximado de 30cm X 20cm = 0,6$m^2$"
      ],
      "metadata": {
        "id": "KrcWc_c9KoJx"
      },
      "id": "KrcWc_c9KoJx"
    },
    {
      "cell_type": "markdown",
      "id": "9b30a9fc-a1cb-4786-a910-40caeeb0fb2b",
      "metadata": {
        "id": "9b30a9fc-a1cb-4786-a910-40caeeb0fb2b"
      },
      "source": [
        "Qual é o significado físico da constante dielétrica?"
      ]
    },
    {
      "cell_type": "code",
      "source": [],
      "metadata": {
        "id": "tlAN6pPpJ4Tn"
      },
      "id": "tlAN6pPpJ4Tn",
      "execution_count": null,
      "outputs": []
    },
    {
      "cell_type": "markdown",
      "id": "9919a06e-cfe8-4d6b-9997-bc62fbb6cab2",
      "metadata": {
        "id": "9919a06e-cfe8-4d6b-9997-bc62fbb6cab2"
      },
      "source": [
        "A constante dielétrica é dada pela razão entre a permissividade elétrica do material dielétrico e a permissividade elétrica do vácuo. \n",
        "A permissividade por sua vez é uma medida que indica como o material responde a aplicação de um campo elétrico e quanto maior, mais resistente à polarização é esse material. \n",
        "Desse modo a constante dielétrica é uma medida de como o material dielétrico resiste à polarização mediante a aplicação de um campo elétrico.\n"
      ]
    },
    {
      "cell_type": "markdown",
      "id": "c24edb0d-b252-4aa3-9274-c494e7b06d3b",
      "metadata": {
        "id": "c24edb0d-b252-4aa3-9274-c494e7b06d3b"
      },
      "source": [
        "## Medidas $V\\times I$ em Materiais Dielétricos"
      ]
    },
    {
      "cell_type": "markdown",
      "id": "29682f3b-4495-4286-b918-5fc6aed79680",
      "metadata": {
        "id": "29682f3b-4495-4286-b918-5fc6aed79680"
      },
      "source": [
        "### Ambiente Experimental\n",
        "\n",
        "A fonte de alta tensão será ligada aos eletrodos isolados, entre os quais se colocará a amostra que se vai medir. Um amperímetro convenientemente ligado completará a montagem para fazer as medidas.\n",
        "\n",
        "Tome muito cuidado com a alta tensão!  Certifique-se de ter feito as ligações corretamente antes de ligar a fonte."
      ]
    },
    {
      "cell_type": "markdown",
      "id": "6493bd6e-ac3b-4062-873e-639b4455ed85",
      "metadata": {
        "tags": [],
        "id": "6493bd6e-ac3b-4062-873e-639b4455ed85"
      },
      "source": [
        "### Roteiro\n",
        "\n",
        "1. Para cada folha de material dielétrico disponível no laboratório, obtenha a característica $V\\times I$, até o ponto de ruptura dielétrica.  Para estas medidas é importante que as faces dos eletrodos estejam paralelas e pressionadas de encontro à amostra.  Anote também a distância entre os eletrodos em cada caso.\n",
        "\n",
        "1. Para uma amostra de um dielétrico, observar o comportamento da corrente em função do tempo, mantendo a tensão próxima à da ruptura.\n",
        "\n",
        "1. Refazer a medida anterior, após umedecer ligeiramente a amostra com água."
      ]
    },
    {
      "cell_type": "code",
      "execution_count": null,
      "id": "ba4ae350-65de-49a5-bd7a-c3dfcabfcd75",
      "metadata": {
        "id": "ba4ae350-65de-49a5-bd7a-c3dfcabfcd75"
      },
      "outputs": [],
      "source": [
        "# DADOS COLETADOS\n",
        "\n",
        "\n",
        "# Placa de Fibra comercial 0,26mm seca\n",
        "\n",
        "#Tensões aplicadas\n",
        "v1 = numpy.array([0.2, 0.4, 0.6, 0.8, 1, 1.2, 1.4, 1.6, 1.8, 2, 2.2, 2.4, 2.6, 2.8, 3, 3.2, 3.4, 3.6]) # (kV)\n",
        "\n",
        "#Correntes medidas\n",
        "i1 = numpy.array([0.05, 0.16, 0.36, 0.67, 1.01, 1.31, 1.8, 2.38, 2.97, 3.66, 4.33, 5.2, 6.6, 6.87, 7.95, 9.14, 10.55, 11.88]) # (mA)\n",
        "\n",
        "#########################################################\n",
        "# Placa de Presspahn 0,19mm seca\n",
        "\n",
        "#Tensões aplicadas\n",
        "v2 = numpy.array([0.2, 0.4, 0.6, 0.8, 1, 1.2, 1.4]) # (kV)\n",
        "\n",
        "#Correntes medidas\n",
        "i2 = numpy.array([0.21, 0.7, 2, 3.7, 6.1, 9, 12.1]) # (mA)\n",
        "\n",
        "#########################################################\n",
        "# Placa de Pine com Mylar 0,30 mm seca\n",
        "\n",
        "#Tensões aplicadas\n",
        "v3 = numpy.array([0.2, 0.4, 0.6, 0.8, 1, 1.2, 1.4, 1.6, 1.8, 2, 2.2, 2.4, 2.6, 2.8, 3, 3.5, 4, 4.5, 5]) # (kV) \n",
        "\n",
        "#Correntes medidas\n",
        "i3 = numpy.array([0.01, 0.02, 0.02, 0.02, 0.03, 0.03, 0.04, 0.05, 0.06, 0.06, 0.06, 0.07, 0.07, 0.09, 0.1, 0.11, 0.15, 0.17, 0.23]) # (mA) \n"
      ]
    },
    {
      "cell_type": "markdown",
      "source": [
        "Placa de Fibra comercial 0,26 mm seca\n",
        "\n",
        "| Tensão (kv) | Corrente (mA)|\n",
        "|:---------:|:----------------------:|\n",
        "|0,2\t| 0,05|\n",
        "0,4\t| 0,16\n",
        "0,6|\t0,36\n",
        "0,8|\t0,67\n",
        "1\t|1,01\n",
        "1,2|\t1,31\n",
        "1,4\t|1,8\n",
        "1,6\t|2,38\n",
        "1,8\t|2,97\n",
        "2\t|3,66\n",
        "2,2|\t4,33\n",
        "2,4\t|5,2\n",
        "2,6\t|6,6\n",
        "2,8\t|6,87\n",
        "3\t|7,95\n",
        "3,2|\t9,14\n",
        "3,4|\t10,55\n",
        "3,6\t|11,88\n",
        "3,8 | Ruptura\n",
        "\n",
        "\n",
        "Placa de Prespahn 0,19 mm seca\n",
        "\n",
        "| Tensão (kv) | Corrente (mA)|\n",
        "|:---------:|:----------------------:|\n",
        "0,2|\t0,21\n",
        "0,4\t|0,7\n",
        "0,6\t|2\n",
        "0,8\t|3,7\n",
        "1\t|6,1\n",
        "1,2|\t9\n",
        "1,4\t|12,1\n",
        "1,6\t|Ruptura\n",
        "\n",
        "\n",
        "Placa de Pine com Mylar 0,30 mm seca\n",
        "\n",
        "| Tensão (kv) | Corrente (mA)|\n",
        "|:---------:|:----------------------:|\n",
        "0,2|\t0,01\n",
        "0,4\t|0,02\n",
        "0,6\t|0,02\n",
        "0,8\t|0,02\n",
        "1\t|0,03\n",
        "1,2|\t0,03\n",
        "1,4|\t0,04\n",
        "1,6|\t0,05\n",
        "1,8|\t0,06\n",
        "2\t|0,06\n",
        "2,2|\t0,06\n",
        "2,4\t|0,07\n",
        "2,6\t|0,07\n",
        "2,8\t|0,09\n",
        "3\t|0,1\n",
        "3,5|\t0,11\n",
        "4\t|0,15\n",
        "4,5|\t0,17\n",
        "5\t|0,23"
      ],
      "metadata": {
        "id": "4t6_uPfqmcCe"
      },
      "id": "4t6_uPfqmcCe"
    },
    {
      "cell_type": "markdown",
      "id": "943f15d9-fe2e-47ad-b2cc-e8e7048104cf",
      "metadata": {
        "id": "943f15d9-fe2e-47ad-b2cc-e8e7048104cf"
      },
      "source": [
        "### Análise"
      ]
    },
    {
      "cell_type": "markdown",
      "id": "60ee6b0b-531c-4f1d-9f7c-ae4aa7442b2f",
      "metadata": {
        "id": "60ee6b0b-531c-4f1d-9f7c-ae4aa7442b2f"
      },
      "source": [
        "Construa gráficos $V\\times I$ e compare os diversos resultados."
      ]
    },
    {
      "cell_type": "code",
      "execution_count": null,
      "id": "a2e4b3b6-5bd3-419e-8091-70efeb37d3af",
      "metadata": {
        "tags": [],
        "id": "a2e4b3b6-5bd3-419e-8091-70efeb37d3af",
        "colab": {
          "base_uri": "https://localhost:8080/",
          "height": 237
        },
        "outputId": "929c02f0-696c-407b-92b5-fbd38c9eeee2"
      },
      "outputs": [
        {
          "output_type": "error",
          "ename": "NameError",
          "evalue": "ignored",
          "traceback": [
            "\u001b[0;31m---------------------------------------------------------------------------\u001b[0m",
            "\u001b[0;31mNameError\u001b[0m                                 Traceback (most recent call last)",
            "\u001b[0;32m<ipython-input-2-bb4af928e30b>\u001b[0m in \u001b[0;36m<module>\u001b[0;34m()\u001b[0m\n\u001b[1;32m      2\u001b[0m \u001b[0;34m\u001b[0m\u001b[0m\n\u001b[1;32m      3\u001b[0m \u001b[0;34m\u001b[0m\u001b[0m\n\u001b[0;32m----> 4\u001b[0;31m \u001b[0mfig\u001b[0m\u001b[0;34m,\u001b[0m \u001b[0maxis\u001b[0m \u001b[0;34m=\u001b[0m \u001b[0mpyplot\u001b[0m\u001b[0;34m.\u001b[0m\u001b[0msubplots\u001b[0m\u001b[0;34m(\u001b[0m\u001b[0mncols\u001b[0m \u001b[0;34m=\u001b[0m \u001b[0;36m2\u001b[0m\u001b[0;34m,\u001b[0m \u001b[0mnrows\u001b[0m\u001b[0;34m=\u001b[0m\u001b[0;36m2\u001b[0m\u001b[0;34m)\u001b[0m\u001b[0;34m\u001b[0m\u001b[0;34m\u001b[0m\u001b[0m\n\u001b[0m\u001b[1;32m      5\u001b[0m \u001b[0mpyplot\u001b[0m\u001b[0;34m.\u001b[0m\u001b[0mtitle\u001b[0m\u001b[0;34m(\u001b[0m\u001b[0;34m\"Curva V x I - Placa de Fibra comercial 0,26mm seca\"\u001b[0m\u001b[0;34m)\u001b[0m\u001b[0;34m\u001b[0m\u001b[0;34m\u001b[0m\u001b[0m\n\u001b[1;32m      6\u001b[0m \u001b[0maxis\u001b[0m\u001b[0;34m.\u001b[0m\u001b[0mscatter\u001b[0m\u001b[0;34m(\u001b[0m\u001b[0mi1\u001b[0m\u001b[0;34m,\u001b[0m \u001b[0mv1\u001b[0m\u001b[0;34m)\u001b[0m\u001b[0;34m\u001b[0m\u001b[0;34m\u001b[0m\u001b[0m\n",
            "\u001b[0;31mNameError\u001b[0m: name 'pyplot' is not defined"
          ]
        }
      ],
      "source": [
        "# GRÁFICOS\n",
        "\n",
        "\n",
        "fig, axis = pyplot.subplots\n",
        "pyplot.title(\"Curva V x I - Placa de Fibra comercial 0,26mm seca\")\n",
        "axis.scatter(i1, v1)\n",
        "axis.set_ylabel(\"Tensão (kV)\")\n",
        "axis.set_xlabel(\"Corrente (mA)\")\n",
        "axis.grid(True)\n",
        "\n",
        "fig, axis = pyplot.subplots()\n",
        "pyplot.title(\"Curva V x I - Placa de Presspahn 0,19mm seca\")\n",
        "axis.scatter(i2, v2)\n",
        "axis.set_ylabel(\"Tensão (kV)\")\n",
        "axis.set_xlabel(\"Corrente (mA)\")\n",
        "axis.grid(True)\n",
        "\n",
        "fig, axis = pyplot.subplots()\n",
        "pyplot.title(\"Curva V x I - Placa de Pine com Mylar 0,30 mm seca\")\n",
        "axis.scatter(i3, v3)\n",
        "axis.set_ylabel(\"Tensão (kV)\")\n",
        "axis.set_xlabel(\"Corrente (mA)\")\n",
        "axis.grid(True)"
      ]
    },
    {
      "cell_type": "markdown",
      "id": "8c64cb62-dd56-4e19-9351-b4227d72606d",
      "metadata": {
        "id": "8c64cb62-dd56-4e19-9351-b4227d72606d"
      },
      "source": [
        "Calcule a rigidez dielétrica de cada amostra (valor de campo elétrico que provoca a ruptura do material)."
      ]
    },
    {
      "cell_type": "code",
      "execution_count": null,
      "id": "5cd9a113-5363-4762-9781-49969566b925",
      "metadata": {
        "tags": [],
        "id": "5cd9a113-5363-4762-9781-49969566b925"
      },
      "outputs": [],
      "source": [
        "# CÁLCULOS"
      ]
    },
    {
      "cell_type": "markdown",
      "source": [
        "A rigidez dielétrica é o campo máximo suportado pelo meio até sua ruptura. Podemos calculá-lo por\n",
        "$$V=E\\cdot d$$\n",
        "$$E=\\frac{V}{d}$$\n",
        "em que $V$ é a tensão de ruptura e $d$ é a espessura do material.\n",
        "\n",
        "$$E_{fibra}=\\frac{3,8\\cdot10^3}{0,26\\cdot10^{-3}}=14,6\\cdot10^6 V/m$$\n",
        "$$E_{prespahn}=\\frac{1,6\\cdot10^{3}}{0,19\\cdot10^{-3}}=8,42\\cdot10^6 V/m$$\n",
        "$$E_{pine-mylar}>\\frac{5\\cdot10^3}{0,30\\cdot10^{-3}}$$\n",
        "$$E_{pine-mylar}>16,67\\cdot 10^6 V/m$$\n",
        "\n",
        "Nota: não foi possível atingir a ruptura da placa de Pine com Mylar utilizando o aparato experimental disponível, que atinigia um máximo de $V=5kV$."
      ],
      "metadata": {
        "id": "4jI3TqyG-6Sn"
      },
      "id": "4jI3TqyG-6Sn"
    },
    {
      "cell_type": "markdown",
      "id": "268cb6be-61b0-4ee3-978c-2e38737dc45a",
      "metadata": {
        "id": "268cb6be-61b0-4ee3-978c-2e38737dc45a"
      },
      "source": [
        "\n",
        "| Material | Rigidez dielétrica (V/m) |\n",
        "|:---------|:----------------------:|\n",
        "| Fibra Comercial | $ 14,6 * 10^6$\n",
        "| Prespahn        |  $8,42 * 10^6$\n",
        "| Pine com Mylar  |  $>16,67*10^6$\n",
        "| Ar              | $3*10^6$"
      ]
    },
    {
      "cell_type": "markdown",
      "id": "8b35ad29-151d-4c74-bbb8-792361a473b4",
      "metadata": {
        "id": "8b35ad29-151d-4c74-bbb8-792361a473b4"
      },
      "source": [
        "Como se dá a condução de corrente nos dielétricos utilizados?  Relacione com a medida do fator de dissipação medido no item anterior."
      ]
    },
    {
      "cell_type": "markdown",
      "id": "44469094-1f84-4f22-879e-cdec9c0051cf",
      "metadata": {
        "id": "44469094-1f84-4f22-879e-cdec9c0051cf"
      },
      "source": [
        "Um meio dielétrico possui uma banda proibida (*gap*) larga. Isso significa que os elétrons necessitam de muita energia para ir da banda de valência para a banda de condução. Uma tensão altíssima, por exemplo, é uma forma de fornecer a energia necessária. A partir do momento em que um elétron atravessa a banda proibida e atinge o nível de energia da banda de condução, sua energia cinética irá excitar outros elétrons próximos, e assim por diante, gerando uma reação em cadeia. A esse momento se dá o nome de \"ruptura da rigidez dielétrica do meio\". \\\\\n",
        "O fator de dissipação Q está relacionado a perdas de energia por efeito Joule (aquecimento por passagem de corrente) e um valor maior de fator de dissipação representa uma maior facilidade de romper a rigidez dielétrica do meio."
      ]
    },
    {
      "cell_type": "markdown",
      "id": "81f64a93-547a-4c77-990a-903c5c962ad8",
      "metadata": {
        "id": "81f64a93-547a-4c77-990a-903c5c962ad8"
      },
      "source": [
        "É possível medir diretamente com o multímetro do laboratório a tensão entre os eletrodos?\n",
        "Como se poderia medir a tensão entre os eletrodos com o multímetro?"
      ]
    },
    {
      "cell_type": "markdown",
      "id": "bc1d1123-29c2-4de0-ae1e-840f7de2b7b6",
      "metadata": {
        "id": "bc1d1123-29c2-4de0-ae1e-840f7de2b7b6"
      },
      "source": [
        "Não é possível medir diretamente a tensão dos eletrodos com o multímetro do laboratório, pois ele não consegue medir tensões tão altas quanto 5kV. Uma maneira de medir a tensão indiretamente é utilizando um transformador com menos espiras no secundário do que no primário, o que reduz a tensão, e medir a tensão do secundário, multiplicando por $N_1/N_2$ para encontrar o valor de tensão do primário. Outra maneira é utilizando um resistor de resistência conhecida em uma configuração de divisor de tensão."
      ]
    },
    {
      "cell_type": "markdown",
      "id": "785e20eb-d3a8-4dfa-8154-ed6eac6658d0",
      "metadata": {
        "id": "785e20eb-d3a8-4dfa-8154-ed6eac6658d0"
      },
      "source": [
        "## Medidas de Resistência Elétrica"
      ]
    },
    {
      "cell_type": "markdown",
      "id": "8785c2f0-683c-4647-8d82-ca71ccd01ae8",
      "metadata": {
        "tags": [],
        "id": "8785c2f0-683c-4647-8d82-ca71ccd01ae8"
      },
      "source": [
        "### Ambiente Experimental\n",
        "\n",
        "Um autotransformador Variac será ligado à rede de 110 V (corrente alternada) e sua saída se conectará a um resistor, ligando-se convenientemente um amperímetro e um voltímetro para realizar as medidas.\n",
        "\n",
        "No caso da lâmpada incandescente sem bulbo de vidro, verifique se todo o seu filamento está imerso no óleo mineral, sem bolhas de ar aderidas."
      ]
    },
    {
      "cell_type": "code",
      "execution_count": null,
      "id": "f6463eca-ba4c-418b-bb12-c48b6791f811",
      "metadata": {
        "id": "f6463eca-ba4c-418b-bb12-c48b6791f811"
      },
      "outputs": [],
      "source": [
        "# DADOS COLETADOS\n",
        "\n",
        "#Resistor \n",
        "\n",
        "vr = numpy.array([12.7, 23.9, ])"
      ]
    },
    {
      "cell_type": "markdown",
      "source": [
        "Resistência\n",
        "\n",
        "| Tensão (V) | Corrente (mA)|\n",
        "|:---------:|:----------------------:|\n",
        "12,7|\t1,28\n",
        "23,9|\t2,41\n",
        "36,8|\t3,7\n",
        "47,8|\t4,82\n",
        "59,5|\t6\n",
        "65|\t6,56\n",
        "71|\t7,15\n",
        "82,3|\t8,3\n",
        "\n",
        "Lâmpada incandescente com bulbo\n",
        "\n",
        "| Tensão (V) | Corrente (mA)|\n",
        "|:---------:|:----------------------:|\n",
        "12,9|\t158,9\n",
        "24,3|\t204,8\n",
        "35,9|\t246\n",
        "46,8|\t280,6\n",
        "59|\t316,5\n",
        "65,1|\t332,8\n",
        "70\t|346,2\n",
        "81,8|\t375,9\n",
        "\n",
        "Lâmpada incandescente sem bulbo\n",
        "\n",
        "| Tensão (V) | Corrente (mA)|\n",
        "|:---------:|:----------------------:|\n",
        "13,2|\t243,1\n",
        "23,9|\t374\n",
        "35,5|\t489\n",
        "42,6|\t547\n",
        "58,8|\t640\n",
        "65|\t700\n",
        "70|\t740\n",
        "81,5|\t850"
      ],
      "metadata": {
        "id": "0VuDrfLzqAKk"
      },
      "id": "0VuDrfLzqAKk"
    },
    {
      "cell_type": "markdown",
      "id": "cb91f79d-c18e-4ae7-8513-d72c2e4999f9",
      "metadata": {
        "tags": [],
        "id": "cb91f79d-c18e-4ae7-8513-d72c2e4999f9"
      },
      "source": [
        "### Roteiro\n",
        "\n",
        "Obtenha a característica $V\\times I$ para o resistor de filme de carbono.\n",
        "\n",
        "Repita as medidas para a lâmpada incandescente e para a lâmpada incandescente sem bulbo de vidro, tomando o cuidado de interrompê-la quando se inicia a geração de bolhas gasosas na região do filamento.\n",
        "\n",
        "Observe se há histerese em alguma das medições."
      ]
    },
    {
      "cell_type": "markdown",
      "id": "cbaa0490-d442-4370-8e5e-b0a325f71fb3",
      "metadata": {
        "id": "cbaa0490-d442-4370-8e5e-b0a325f71fb3"
      },
      "source": [
        "### Análise"
      ]
    },
    {
      "cell_type": "markdown",
      "id": "68e6ee9c-83b3-4057-815b-60089d38f6e4",
      "metadata": {
        "id": "68e6ee9c-83b3-4057-815b-60089d38f6e4"
      },
      "source": [
        "Faça os gráficos dos valores medidos e analise os resultados."
      ]
    },
    {
      "cell_type": "code",
      "execution_count": null,
      "id": "fb4d29ed-0fe5-4386-a1db-57a929cbca31",
      "metadata": {
        "tags": [],
        "id": "fb4d29ed-0fe5-4386-a1db-57a929cbca31"
      },
      "outputs": [],
      "source": [
        "# GRÁFICOS"
      ]
    },
    {
      "cell_type": "markdown",
      "id": "17fb8ca9-68aa-40b9-b09f-21310ead65d7",
      "metadata": {
        "id": "17fb8ca9-68aa-40b9-b09f-21310ead65d7"
      },
      "source": [
        "O resistor é ohmico, pois possui uma relação VxI linear e, portanto, respeita a primeira Lei de Ohm ($V=R\\cdot I$). O valor da resistência é aproximadamente $R\\approx10k\\Omega$."
      ]
    },
    {
      "cell_type": "markdown",
      "id": "3d9e9479-fd61-4203-a048-7c27c940cefe",
      "metadata": {
        "id": "3d9e9479-fd61-4203-a048-7c27c940cefe"
      },
      "source": [
        "Qual é a função do bulbo de vidro das lâmpadas.\n",
        "Qual é a função do óleo mineral utilizado?\n",
        "O que poderia substituí-lo em sua função."
      ]
    },
    {
      "cell_type": "markdown",
      "id": "134fdeb4-5856-4aff-bc0d-2ba7076b0f4e",
      "metadata": {
        "id": "134fdeb4-5856-4aff-bc0d-2ba7076b0f4e"
      },
      "source": [
        "O bulbo de vidro é um isolante térmico, que serve para a lâmpada perder menos calor para o meio, aumentando sua eficiência. O óleo mineral, por outro lado, resfria o filamento, o que dificulta o aquecimento deste, e exige uma corrente muito maior para produzir luz. Água gelada corrente seria outra forma de resfriar o filamento."
      ]
    },
    {
      "cell_type": "markdown",
      "id": "5998f8e9-3adf-4f0e-ad41-c0268dea92ab",
      "metadata": {
        "id": "5998f8e9-3adf-4f0e-ad41-c0268dea92ab"
      },
      "source": [
        "A Lei de Ohm se aplica nestes casos?"
      ]
    },
    {
      "cell_type": "markdown",
      "metadata": {
        "id": "VcKMOruzwT4D"
      },
      "source": [
        "A Lei de Ohm ($V=R\\cdot I$) se aplica apenas para o resistor, pois as lâmpadas não possuem gráficos lineares de VxI."
      ],
      "id": "VcKMOruzwT4D"
    },
    {
      "cell_type": "markdown",
      "id": "6f38e7f4-16b6-4a47-9636-c5c3e0f765dd",
      "metadata": {
        "id": "6f38e7f4-16b6-4a47-9636-c5c3e0f765dd"
      },
      "source": [
        "Como se dá a condução da corrente num condutor?"
      ]
    },
    {
      "cell_type": "markdown",
      "id": "85c0b39f-c25b-44c9-b0b7-0bf157fed103",
      "metadata": {
        "id": "85c0b39f-c25b-44c9-b0b7-0bf157fed103"
      },
      "source": [
        "Os portadores de carga (nesse caso elétrons) são excitados por uma tensão (diferença de potencial entre dois pontos) e são atraídos pela força elétrica do ponto com carga de sinal oposto (positivo). Esse movimento de um portador repele os outros portadores próximos com carga de mesmo sinal (negativo), criando uma reação em cadeia. A esse movimento ordenado de portadores de carga se dá o nome de corrente elétrica, que tem o sentido oposto ao movimento dos elétrons. "
      ]
    },
    {
      "cell_type": "markdown",
      "id": "b0e63e40-89d6-4c0e-ab5c-b9c5d4eaa004",
      "metadata": {
        "id": "b0e63e40-89d6-4c0e-ab5c-b9c5d4eaa004"
      },
      "source": [
        "## Medidas de Resistividade da Água Potável"
      ]
    },
    {
      "cell_type": "markdown",
      "id": "4e7aaca1-d88b-40cd-8511-d12566b80611",
      "metadata": {
        "id": "4e7aaca1-d88b-40cd-8511-d12566b80611"
      },
      "source": [
        "### Ambiente Experimental\n",
        "\n",
        "Preencha até uma altura de 5 mm uma cuba de vidro com água potável.  Serão utilizados como eletrodos dois paralelepípedos de grafite ligados convenientemente a uma fonte, um voltímetro e um amperímetro para medir a resistividade."
      ]
    },
    {
      "cell_type": "markdown",
      "id": "702bcd65-76dc-4c85-8123-f46e4a1fabe7",
      "metadata": {
        "id": "702bcd65-76dc-4c85-8123-f46e4a1fabe7"
      },
      "source": [
        "### Roteiro\n",
        "\n",
        "Utilizando os eletrodos grafite, faça medidas e calcule as resistividades para pelo menos três valores diferentes de espaçamento intereletródico."
      ]
    },
    {
      "cell_type": "markdown",
      "id": "fa277bff-ee06-46e2-8b67-256fe06910be",
      "metadata": {
        "tags": [],
        "id": "fa277bff-ee06-46e2-8b67-256fe06910be"
      },
      "source": [
        "### Análise"
      ]
    },
    {
      "cell_type": "markdown",
      "id": "46997c4b-cd86-40ff-b5d2-ec2fd6122008",
      "metadata": {
        "id": "46997c4b-cd86-40ff-b5d2-ec2fd6122008"
      },
      "source": [
        "Faça gráficos com os valores medidos. Compare e interprete os resultados obtidos."
      ]
    },
    {
      "cell_type": "code",
      "execution_count": null,
      "id": "c4ae5f27-a73b-489c-848f-948e8049f305",
      "metadata": {
        "tags": [],
        "id": "c4ae5f27-a73b-489c-848f-948e8049f305",
        "colab": {
          "base_uri": "https://localhost:8080/",
          "height": 920
        },
        "outputId": "34f5a7de-0b18-42df-f884-111adfbd5250"
      },
      "outputs": [
        {
          "output_type": "stream",
          "name": "stdout",
          "text": [
            "Utilizando regressão linear, podemos encontrar os coeficientes angulares que melhor se ajustam aos pontos\n",
            "Coeficiente Angular (Resistência) - Distância 1:12 kΩ \n",
            "Coeficiente Angular (Resistência) - Distância 2:3.4 kΩ \n",
            "Coeficiente Angular (Resistência) - Distância 3:0.89 kΩ \n"
          ]
        },
        {
          "output_type": "display_data",
          "data": {
            "text/plain": [
              "<Figure size 432x288 with 1 Axes>"
            ],
            "image/png": "[encoded data removed]"
          },
          "metadata": {
            "needs_background": "light"
          }
        },
        {
          "output_type": "display_data",
          "data": {
            "text/plain": [
              "<Figure size 432x288 with 1 Axes>"
            ],
            "image/png": "[encoded data removed]"
          },
          "metadata": {
            "needs_background": "light"
          }
        },
        {
          "output_type": "display_data",
          "data": {
            "text/plain": [
              "<Figure size 432x288 with 1 Axes>"
            ],
            "image/png": "[encoded data removed]"
          },
          "metadata": {
            "needs_background": "light"
          }
        }
      ],
      "source": [
        "# GRÁFICOS\n",
        "\n",
        "#Distância 1: 5,24cm \n",
        "\n",
        "va = numpy.array([5.3,10.3,15,20.5,25.3,30.1,35.1]) #  (V)\n",
        "ia = numpy.array([0.374,0.753, 1.136, 1.57, 1.944, 2.341, 2.762]) # (mA)\n",
        "\n",
        "#Distância 2: 2,5cm\n",
        "\n",
        "vb = numpy.array([5.2,10.3,15,20.3,25.3,30.1,35.1])\n",
        "ib = numpy.array([0.84,1.94,3.04,4.45,6.21,8.04,9.26])\n",
        "\n",
        "#Distância 3: 1,2cm\n",
        "\n",
        "vc = numpy.array([5.2,10.3,15.1,20.1,25,30.3,35])\n",
        "ic = numpy.array([3.27,9.3,15.15,20.24,26.45,31.65,36.46])\n",
        "\n",
        "\n",
        "c = numpy.polyfit(ia,va,1)\n",
        "\n",
        "print(\"Utilizando regressão linear, podemos encontrar os coeficientes angulares que melhor se ajustam aos pontos\")\n",
        "\n",
        "fig, axis = pyplot.subplots()\n",
        "pyplot.title(\"Curva V x I - Distância 1: 5,24cm\")\n",
        "axis.scatter(ia, va)\n",
        "axis.set_ylabel(\"Tensão (V)\")\n",
        "axis.set_xlabel(\"Corrente (mA)\")\n",
        "axis.grid(True)\n",
        "c = numpy.polyfit(ia,va,1)\n",
        "print(f\"Coeficiente Angular (Resistência) - Distância 1:{c[0]:.2g} kΩ \")\n",
        "\n",
        "fig, axis = pyplot.subplots()\n",
        "pyplot.title(\"Curva V x I - Distância 2: 2,5cm\")\n",
        "axis.scatter(ib, vb)\n",
        "axis.set_ylabel(\"Tensão (V)\")\n",
        "axis.set_xlabel(\"Corrente (mA)\")\n",
        "axis.grid(True)\n",
        "d = numpy.polyfit(ib,vb,1)\n",
        "print(f\"Coeficiente Angular (Resistência) - Distância 2:{d[0]:.2g} kΩ \")\n",
        "\n",
        "\n",
        "fig, axis = pyplot.subplots()\n",
        "pyplot.title(\"Curva V x I - Distância 3: 1,2cm\")\n",
        "axis.scatter(ic, vc)\n",
        "axis.set_ylabel(\"Tensão (V)\")\n",
        "axis.set_xlabel(\"Corrente (mA)\")\n",
        "axis.grid(True)\n",
        "e = numpy.polyfit(ic,vc,1)\n",
        "print(f\"Coeficiente Angular (Resistência) - Distância 3:{e[0]:.2g} kΩ \")\n"
      ]
    },
    {
      "cell_type": "markdown",
      "id": "2e7908b0-ba2f-46ac-8291-91478f9f6c65",
      "metadata": {
        "id": "2e7908b0-ba2f-46ac-8291-91478f9f6c65"
      },
      "source": [
        "Qual é o valor provável da resistividade? Justifique a sua escolha."
      ]
    },
    {
      "cell_type": "markdown",
      "id": "45baeae0-9a07-43ec-a8fe-cfee87173a3f",
      "metadata": {
        "id": "45baeae0-9a07-43ec-a8fe-cfee87173a3f"
      },
      "source": [
        "Utilizando a Primeira e a Segunda Lei de Ohm em conjunto, isolamos a resistividade da seguinte maneira:\n",
        "$$\\frac{\\rho\\cdot l}{A}=R=\\frac{V}{I}$$\n",
        "$$\\rho=\\frac{V\\cdot A}{I\\cdot l}$$\n",
        "\n",
        "Experimentalmente:\n",
        "$$A=14,71\\cdot 10^{-2} \\cdot 4,33\\cdot 10^{-2}= 6,37 \\cdot 10^{-3}m^2$$\n",
        "$$l=d_3=1,2\\cdot 10^{-2}m$$\n",
        "$$\\frac{V}{I}\\approx 1,08\\cdot 10^3\\Omega$$\n",
        "em que $d_3$ foi utilizado como $l$ porque é a menor distância e, portanto, a que tem menos fluxo magnético percorrendo o caminho por fora dos eletrodos. \n",
        "\n",
        "$$\\rho=\\frac{1,08\\cdot 10^3\\cdot 6,37 \\cdot 10^{-3}}{1,2\\cdot 10^{-2}}$$\n",
        "$$\\rho=573,3 \\hspace{1mm}\\Omega/m$$"
      ]
    },
    {
      "cell_type": "markdown",
      "id": "fec95bc9-3f42-4257-9ea8-6b199ad5ab71",
      "metadata": {
        "id": "fec95bc9-3f42-4257-9ea8-6b199ad5ab71"
      },
      "source": [
        "Explique as diferenças observadas nos valores medidos."
      ]
    },
    {
      "cell_type": "markdown",
      "id": "af639156-d442-43c9-b950-70c8e4c4cb48",
      "metadata": {
        "id": "af639156-d442-43c9-b950-70c8e4c4cb48"
      },
      "source": [
        "Podemos perceber que conforme aproximamos os eletrodos, a resistência medida diminui e se aproxima ao valor real da água na região. Isso ocorre pois ao diminuirmos a distância entre os eletrodos, também diminuímos a intensidade do campo elétrico distribuído na região e maximizamos o efeito dele na área a ser medida, reduzindo a contribuição de correntes externas ao sistema."
      ]
    },
    {
      "cell_type": "markdown",
      "id": "fe51f5b9-7ac2-4025-9bdf-b28889af6c07",
      "metadata": {
        "id": "fe51f5b9-7ac2-4025-9bdf-b28889af6c07"
      },
      "source": [
        "Quais parâmetros podem modificar a resistividade?"
      ]
    },
    {
      "cell_type": "markdown",
      "id": "289b09e7-0fa0-4948-ba34-cb149909a962",
      "metadata": {
        "id": "289b09e7-0fa0-4948-ba34-cb149909a962"
      },
      "source": [
        "A distância entre os paralelepípedos e a área submersa deles."
      ]
    },
    {
      "cell_type": "markdown",
      "id": "eef9d336-a237-4c8f-9b2d-048c65ab9152",
      "metadata": {
        "id": "eef9d336-a237-4c8f-9b2d-048c65ab9152"
      },
      "source": [
        "Como se dá a condução da corrente em um eletrólito?"
      ]
    },
    {
      "cell_type": "markdown",
      "id": "44aaf649-d9c3-40a1-b147-1c69a1a25bdb",
      "metadata": {
        "id": "44aaf649-d9c3-40a1-b147-1c69a1a25bdb"
      },
      "source": [
        "A diferença de pontencial (tensão elétrica) representa um ponto com carga positiva e um ponto com carga negativa. Os íons livres do eletrólito são repelidos, através da força elétrica, pelos pontos de carga com mesmo sinal que eles, e atraídos por pontos de sinal oposto. Dessa forma, há um movimento de íons positivos em um sentido e íons negativos no sentido oposto. A corrente elétrica é a soma (em módulo) dessas correntes parciais, com o sentido de movimento das cargas positivas."
      ]
    },
    {
      "cell_type": "markdown",
      "id": "892bc249-0ed6-4bd0-814c-8c70e6f68362",
      "metadata": {
        "id": "892bc249-0ed6-4bd0-814c-8c70e6f68362"
      },
      "source": [
        "---\n",
        "*Roteiro original preparado pelos Profs. Furio Damiani e Peter Jürgen Tatsch*"
      ]
    }
  ],
  "metadata": {
    "kernelspec": {
      "display_name": "Python 3 (ipykernel)",
      "language": "python",
      "name": "python3"
    },
    "language_info": {
      "codemirror_mode": {
        "name": "ipython",
        "version": 3
      },
      "file_extension": ".py",
      "mimetype": "text/x-python",
      "name": "python",
      "nbconvert_exporter": "python",
      "pygments_lexer": "ipython3",
      "version": "3.10.2"
    },
    "colab": {
      "provenance": [],
      "collapsed_sections": []
    }
  },
  "nbformat": 4,
  "nbformat_minor": 5
}