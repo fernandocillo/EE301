{
  "cells": [
    {
      "cell_type": "markdown",
      "id": "7cb16a6a-fad1-4928-91e3-06987a06d00f",
      "metadata": {
        "id": "7cb16a6a-fad1-4928-91e3-06987a06d00f"
      },
      "source": [
        "# Experimento 2: Dependência da Resistividade dos Metais com a Temperatura\n",
        "\n"
      ]
    },
    {
      "cell_type": "markdown",
      "id": "4a878e9f-d642-4c42-af5b-fe426d3a50f5",
      "metadata": {
        "id": "4a878e9f-d642-4c42-af5b-fe426d3a50f5"
      },
      "source": [
        "Fernando Teodoro de Cillo  RA 197029 \\\\\n",
        "Pedro Henrique de Oliveira Alves   RA 185684"
      ]
    },
    {
      "cell_type": "code",
      "execution_count": null,
      "id": "b7729bcf-e2d8-44c1-9f43-400b381822ce",
      "metadata": {
        "id": "b7729bcf-e2d8-44c1-9f43-400b381822ce"
      },
      "outputs": [],
      "source": [
        "# Bibliotecas auxiliares\n",
        "import numpy\n",
        "from matplotlib import pyplot"
      ]
    },
    {
      "cell_type": "markdown",
      "id": "85e6aef9-e9ab-4690-ab0f-610a7b2cc603",
      "metadata": {
        "id": "85e6aef9-e9ab-4690-ab0f-610a7b2cc603"
      },
      "source": [
        "## Modelo\n",
        "\n",
        "A condutividade dos materiais é função das concentrações dos portadores de carga e de suas mobilidades.\n",
        "A temperatura pode afetar a densidade de portadores, como acontece nos semicondutores, ou apenas a mobilidade, como nos condutores.\n",
        "\n",
        "A condutividade elétrica $\\sigma$ de um condutor é descrita pela equação:\n",
        "\n",
        "\\begin{equation}\n",
        "\\sigma = q_0n\\mu\n",
        "\\end{equation}\n",
        "\n",
        "em que $q_0$ é a carga elementar, $n$ a concentração de elétrons livres e $\\mu$ a sua mobilidade.\n",
        "A resistividade $\\rho$ é definida como o inverso da condutividade, i.e., $\\rho = \\sigma^{-1}$.\n",
        "\n",
        "A mobilidade determina a velocidade de deriva $v_d$ (velocidade \\emph{média} de deslocamento) para um dado campo elétrico $E$ aplicado:\n",
        "\n",
        "\\begin{equation}\n",
        "v_d = \\mu E\n",
        "\\end{equation}\n",
        "\n",
        "A concentração $n$ pode ser determinada pelo número de elétrons de valência por átomo do metal, multiplicado pela densidade de átomos.\n",
        "No caso, a concentração dos elétrons livres não muda com a temperatura, apenas sua mobilidade.\n",
        "\n",
        "A resistência elétrica $R$ tem origem no espalhamento dos elétrons na sua interação com a rede de átomos que forma a estrutura cristalina do material.\n",
        "Ela está relacionada com a resistividade por:\n",
        "\n",
        "\\begin{equation}\n",
        "R = \\frac{\\rho\\ell}{A}\n",
        "\\end{equation}\n",
        "\n",
        "sendo $\\ell$ e $A$, respectivamente, o comprimento longitudinal e a área da seção transversal do condutor.\n",
        "\n",
        "A regra de Matthiesen sugere que a resistividade de um metal pode ser modelada pela soma de duas componentes:\n",
        "\n",
        "\\begin{equation}\n",
        "\\rho = \\rho_\\text{res} + \\rho_T\n",
        "\\end{equation}\n",
        "\n",
        "- *Resistividade residual* $\\rho_\\text{res}$: está relacionada com as imperfeições da estrutura cristalina do condutor, como discordâncias, vacâncias, contornos de grão e impurezas.\n",
        "  Ela depende do material, mas não da temperatura.\n",
        "  Assim, por exemplo, um monocristal de cobre terá resistividade residual diferente de um policristal de cobre ou de uma liga de cobre e ní­quel.\n",
        "  Os defeitos estruturais provocam um aumento da resistividade residual, pois aumentam o espalhamento dos elétrons, reduzindo o caminho live médio por eles percorrido entre as interações com a rede.\n",
        "- *Resistividade térmica* $\\rho_T$: originada pela vibração da rede cristalina.\n",
        "  A amplitude da vibração aumenta com a temperatura, provocando uma maior interação e espalhamento dos elétrons e, portanto, um aumento da resistividade térmica.\n",
        "\n",
        "A relação empírica que modela esse comportamento, que é aproximadamente linear, é:\n",
        "\n",
        "\\begin{equation}\n",
        "\\rho = \\rho_0\\left[1+\\alpha_0\\left(T - T_0\\right)\\right]\n",
        "\\end{equation}\n",
        "\n",
        "em que $\\rho_0$ é a resistividade na temperatura ambiente $T_0$ e $\\alpha_0$ é o coeficiente térmico da resistividade."
      ]
    },
    {
      "cell_type": "markdown",
      "id": "3ebf061f-9242-419b-8492-541055ef607c",
      "metadata": {
        "tags": [],
        "id": "3ebf061f-9242-419b-8492-541055ef607c"
      },
      "source": [
        "## Ambiente experimental\n",
        "\n",
        "As medidas serão realizadas utilizando um filamento espiralado de liga aço/cobre com 2,9 m de comprimento e 0,3 mm de diâmetro, um filamento de tungstênio de lâmpada incandescente de 60 W/127 V com comprimento de 1,16 m e 0,046 mm de diâmetro, um filamento de lâmpada halogena de 500 W/220 V, um variac, multí­metros e um pirômetro óptico."
      ]
    },
    {
      "cell_type": "markdown",
      "id": "5b5dcd23-6756-4a46-934e-17e8935e3b19",
      "metadata": {
        "tags": [],
        "id": "5b5dcd23-6756-4a46-934e-17e8935e3b19"
      },
      "source": [
        "### Roteiro\n",
        "\n",
        "1. Meça a resistência dos filamentos à temperatura ambiente.\n",
        "\n",
        "1. Aplique tensões de até 110 V na lâmpada incandescente.  Meça a tensão, a corrente e a temperatura do filamento de tungstênio.  Na medida de temperatura focalize o pirômetro óptico no meio do filamento, sempre no mesmo ponto.\n",
        "\n",
        "1. Repita o procedimento com a lâmpada halogena e o filamento de aço/cobre (resistência de chuveiro).  Aplique uma corrente máxima de 4 A no filamento."
      ]
    },
    {
      "cell_type": "code",
      "execution_count": null,
      "id": "e4c95d5d-d186-4c4d-ab2d-d0ab4c9fc6c0",
      "metadata": {
        "id": "e4c95d5d-d186-4c4d-ab2d-d0ab4c9fc6c0"
      },
      "outputs": [],
      "source": [
        "# DADOS COLETADOS"
      ]
    },
    {
      "cell_type": "markdown",
      "source": [
        "# **Lâmpada Incandescente**"
      ],
      "metadata": {
        "id": "4G-SF2vj8wKE"
      },
      "id": "4G-SF2vj8wKE"
    },
    {
      "cell_type": "markdown",
      "source": [
        "| Tensão (V) | Corrente (A) | Temperatura (°C)\n",
        "|:---------|:----------------------:|:-----:|\n",
        "| 5,7 | 0,10 | - |\n",
        "| 10,3 | 0,13 | - |\n",
        "| 15,7 | 0,15 | - |\n",
        "| 20,7 | 0,17 | 689 |\n",
        "| 30,0 | 0,21 | 830 |\n",
        "| 40,4 | 0,24 | 918 |\n",
        "| 50,3 | 0,27 | 1001 |\n",
        "| 60,0 | 0,30 | 1053 |\n",
        "| 70,1 | 0,33 | 1108 |\n",
        "| 80,2 | 0,35 | 1160 |\n",
        "| 90,8 | 0,38 | 1206 |\n",
        "| 100,2 | 0,40 | 1238 |\n",
        "| 110,1 | 0,42 | 1274 |"
      ],
      "metadata": {
        "id": "5LXLO3Gp7UAU"
      },
      "id": "5LXLO3Gp7UAU"
    },
    {
      "cell_type": "markdown",
      "source": [
        "# **Lâmpada Halógena**"
      ],
      "metadata": {
        "id": "rKhYdOTY9R9l"
      },
      "id": "rKhYdOTY9R9l"
    },
    {
      "cell_type": "markdown",
      "source": [
        "| Tensão (V) | Corrente (A) | Temperatura (°C)\n",
        "|:---------|:----------------------:|:-----:|\n",
        "| 5,1 | 0,32 | - |\n",
        "| 10,1 | 0,44 | - |\n",
        "| 15,0 | 0,48 | - |\n",
        "| 20,7 | 0,56 | 639 |\n",
        "| 30,9 | 0,68 | 786 |\n",
        "| 40,4 | 0,78 | 886 |\n",
        "| 50,2 | 0,87 | 968 |\n",
        "| 60,4 | 0,97 | 1041 |\n",
        "| 70,3 | 1,05 | 1096 |\n",
        "| 80,4 | 1,13 | 1153 |\n",
        "| 90,1 | 1,21 | 1180 |\n",
        "| 100,4 | 1,29 | 1224 |\n",
        "| 109,0 | 1,36 | 1266 |"
      ],
      "metadata": {
        "id": "gVFyuLk59eV1"
      },
      "id": "gVFyuLk59eV1"
    },
    {
      "cell_type": "markdown",
      "source": [
        "# **Filamento de aço/cobre (resistência de chuveiro)**"
      ],
      "metadata": {
        "id": "EXKK13PV-Zag"
      },
      "id": "EXKK13PV-Zag"
    },
    {
      "cell_type": "markdown",
      "source": [
        "| Tensão (V) | Corrente (A) | Temperatura (°C)\n",
        "|:---------|:----------------------:|:-----:|\n",
        "| 55,5 | 2,55 | 608 |\n",
        "| 60,0 | 2,75 | 662 |\n",
        "| 65,3 | 2,99 | 697 |\n",
        "| 67,8 | 3,12 | 727 |\n",
        "| 70,4 | 3,23 | 744 |\n",
        "| 72,4 | 3,35 | 770 |\n",
        "| 74,9 | 3,46 | 789 |\n",
        "| 78,3 | 3,61 | 811 |\n",
        "| 81,7 | 3,77 | 834 |\n",
        "| 84,1 | 3,90 | 853 |"
      ],
      "metadata": {
        "id": "5xq5YAqq-YH9"
      },
      "id": "5xq5YAqq-YH9"
    },
    {
      "cell_type": "markdown",
      "id": "c3fece85-fa60-42d9-b5cc-1c2b5fb3d7a1",
      "metadata": {
        "id": "c3fece85-fa60-42d9-b5cc-1c2b5fb3d7a1"
      },
      "source": [
        "### Análise"
      ]
    },
    {
      "cell_type": "markdown",
      "id": "b2dd525d-7918-41d9-b745-d8d6124e5826",
      "metadata": {
        "id": "b2dd525d-7918-41d9-b745-d8d6124e5826"
      },
      "source": [
        "O que acontece com a cor observada nas resistências ao longo do experimento? Explique sua observação."
      ]
    },
    {
      "cell_type": "markdown",
      "id": "d4f8b8ff-dc00-4e37-acfd-d72c83b42d63",
      "metadata": {
        "id": "d4f8b8ff-dc00-4e37-acfd-d72c83b42d63"
      },
      "source": [
        "PREENCHER RESPOSTA"
      ]
    },
    {
      "cell_type": "markdown",
      "id": "066ab777-3069-4896-81ba-d8da7ca8da67",
      "metadata": {
        "tags": [],
        "id": "066ab777-3069-4896-81ba-d8da7ca8da67"
      },
      "source": [
        "Construa gráficos para cada uma mostrando a relação entre a potência dissipada e a temperatura do metal.  Comente os resultados."
      ]
    },
    {
      "cell_type": "code",
      "execution_count": null,
      "id": "dae20d2f-e6ae-4a40-ba15-a1c31edd83ba",
      "metadata": {
        "id": "dae20d2f-e6ae-4a40-ba15-a1c31edd83ba"
      },
      "outputs": [],
      "source": [
        "# GRÁFICOS"
      ]
    },
    {
      "cell_type": "markdown",
      "id": "40a09d43-3e05-4311-8ac8-88e5f831024c",
      "metadata": {
        "tags": [],
        "id": "40a09d43-3e05-4311-8ac8-88e5f831024c"
      },
      "source": [
        "`PREENCHER` COMENTÁRIOS"
      ]
    },
    {
      "cell_type": "markdown",
      "id": "223a3070-2079-4033-a65f-fee30677d121",
      "metadata": {
        "id": "223a3070-2079-4033-a65f-fee30677d121"
      },
      "source": [
        "Determine a resistividade à temperatura ambiente ($\\rho_0$) e o coeficiente térmico da resistividades ($\\alpha_0$) de cada resistência por regressão linear.  Mostre seus resultados graficamente e discuta-os."
      ]
    },
    {
      "cell_type": "code",
      "execution_count": null,
      "id": "224b0ecf-c730-4808-9031-357697c9da0e",
      "metadata": {
        "id": "224b0ecf-c730-4808-9031-357697c9da0e"
      },
      "outputs": [],
      "source": [
        "# GRÁFICOS"
      ]
    },
    {
      "cell_type": "markdown",
      "id": "22c07808-7244-45a1-ad82-0a9bc19f994c",
      "metadata": {
        "id": "22c07808-7244-45a1-ad82-0a9bc19f994c"
      },
      "source": [
        "`PREENCHER` DISCUSSÃO"
      ]
    },
    {
      "cell_type": "markdown",
      "id": "1f7ed29c-c3c8-478a-b324-866f65b70b3d",
      "metadata": {
        "id": "1f7ed29c-c3c8-478a-b324-866f65b70b3d"
      },
      "source": [
        "---\n",
        "*Roteiro original preparado pelos Profs. Furio Damiani e Peter Jürgen Tatsch*"
      ]
    }
  ],
  "metadata": {
    "kernelspec": {
      "display_name": "Python 3 (ipykernel)",
      "language": "python",
      "name": "python3"
    },
    "language_info": {
      "codemirror_mode": {
        "name": "ipython",
        "version": 3
      },
      "file_extension": ".py",
      "mimetype": "text/x-python",
      "name": "python",
      "nbconvert_exporter": "python",
      "pygments_lexer": "ipython3",
      "version": "3.10.2"
    },
    "colab": {
      "provenance": []
    }
  },
  "nbformat": 4,
  "nbformat_minor": 5
}